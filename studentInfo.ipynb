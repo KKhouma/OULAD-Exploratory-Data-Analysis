{
 "cells": [
  {
   "cell_type": "markdown",
   "id": "45df7e78",
   "metadata": {},
   "source": [
    "# exploratory data analysis dalam data StudentInfo OULAD dataset"
   ]
  },
  {
   "cell_type": "markdown",
   "id": "09a2a447",
   "metadata": {},
   "source": [
    "keterangan :\n",
    "    This file contains demographic information about the students together with their results. File contains the following columns:\n",
    "\n",
    "    code_module – an identification code for a module on which the student is registered.\n",
    "    code_presentation - the identification code of the presentation during which the student is registered on the module.\n",
    "    id_student – a unique identification number for the student.\n",
    "    gender – the student’s gender.\n",
    "    region – identifies the geographic region, where the student lived while taking the module-presentation.\n",
    "    highest_education – highest student education level on entry to the module presentation.\n",
    "    imd_band – specifies the Index of Multiple Depravation band of the place where the student lived during the module-presentation.\n",
    "    age_band – band of the student’s age.\n",
    "    num_of_prev_attempts – the number times the student has attempted this module.\n",
    "    studied_credits – the total number of credits for the modules the student is currently studying.\n",
    "    disability – indicates whether the student has declared a disability.\n",
    "    final_result – student’s final result in the module-presentation.\n"
   ]
  },
  {
   "cell_type": "code",
   "execution_count": 2,
   "id": "8707c244",
   "metadata": {},
   "outputs": [],
   "source": [
    "import pandas as pd\n",
    "import numpy as np\n",
    "import matplotlib.pyplot as plt\n",
    "import os"
   ]
  },
  {
   "cell_type": "markdown",
   "id": "ce1abbf2",
   "metadata": {},
   "source": [
    "code exploratory menggunakan library os dan menggunakan modifikasi dari pandas read csv untuk mendapatkan jumlah baris, kolom, tipe data, dan missing value"
   ]
  },
  {
   "cell_type": "code",
   "execution_count": 3,
   "id": "8e4172b3",
   "metadata": {},
   "outputs": [],
   "source": [
    "def Load_File(path) :\n",
    "    if os.path.isfile(path) :\n",
    "        data = pd.read_csv(path)\n",
    "        data = data.replace('?', np.nan)\n",
    "        print(\"\\n\" + \"banyaknya baris adalah %s\" % len(data))\n",
    "        print(\"banyaknya kolom adalah %s\" % len(data.columns) + \"\\n\")\n",
    "        print(\"tipe data :- \")\n",
    "        print(data.dtypes)\n",
    "        print(\"Missing value (null):- \")\n",
    "        print(data.isnull().sum())\n",
    "        \n",
    "        return data\n",
    "    else:\n",
    "        print(path + \" tidak ada\")"
   ]
  },
  {
   "cell_type": "code",
   "execution_count": 4,
   "id": "f5613295",
   "metadata": {},
   "outputs": [
    {
     "name": "stdout",
     "output_type": "stream",
     "text": [
      "\n",
      "banyaknya baris adalah 32593\n",
      "banyaknya kolom adalah 12\n",
      "\n",
      "tipe data :- \n",
      "code_module             object\n",
      "code_presentation       object\n",
      "id_student               int64\n",
      "gender                  object\n",
      "region                  object\n",
      "highest_education       object\n",
      "imd_band                object\n",
      "age_band                object\n",
      "num_of_prev_attempts     int64\n",
      "studied_credits          int64\n",
      "disability              object\n",
      "final_result            object\n",
      "dtype: object\n",
      "Missing value (null):- \n",
      "code_module                0\n",
      "code_presentation          0\n",
      "id_student                 0\n",
      "gender                     0\n",
      "region                     0\n",
      "highest_education          0\n",
      "imd_band                1111\n",
      "age_band                   0\n",
      "num_of_prev_attempts       0\n",
      "studied_credits            0\n",
      "disability                 0\n",
      "final_result               0\n",
      "dtype: int64\n"
     ]
    }
   ],
   "source": [
    "df = Load_File(r'C:\\Users\\Kouma\\Datasets\\studentInfo.csv')"
   ]
  },
  {
   "cell_type": "code",
   "execution_count": 5,
   "id": "e994f040",
   "metadata": {},
   "outputs": [
    {
     "data": {
      "text/html": [
       "<div>\n",
       "<style scoped>\n",
       "    .dataframe tbody tr th:only-of-type {\n",
       "        vertical-align: middle;\n",
       "    }\n",
       "\n",
       "    .dataframe tbody tr th {\n",
       "        vertical-align: top;\n",
       "    }\n",
       "\n",
       "    .dataframe thead th {\n",
       "        text-align: right;\n",
       "    }\n",
       "</style>\n",
       "<table border=\"1\" class=\"dataframe\">\n",
       "  <thead>\n",
       "    <tr style=\"text-align: right;\">\n",
       "      <th></th>\n",
       "      <th>code_module</th>\n",
       "      <th>code_presentation</th>\n",
       "      <th>id_student</th>\n",
       "      <th>gender</th>\n",
       "      <th>region</th>\n",
       "      <th>highest_education</th>\n",
       "      <th>imd_band</th>\n",
       "      <th>age_band</th>\n",
       "      <th>num_of_prev_attempts</th>\n",
       "      <th>studied_credits</th>\n",
       "      <th>disability</th>\n",
       "      <th>final_result</th>\n",
       "    </tr>\n",
       "  </thead>\n",
       "  <tbody>\n",
       "    <tr>\n",
       "      <th>0</th>\n",
       "      <td>AAA</td>\n",
       "      <td>2013J</td>\n",
       "      <td>11391</td>\n",
       "      <td>M</td>\n",
       "      <td>East Anglian Region</td>\n",
       "      <td>HE Qualification</td>\n",
       "      <td>90-100%</td>\n",
       "      <td>55&lt;=</td>\n",
       "      <td>0</td>\n",
       "      <td>240</td>\n",
       "      <td>N</td>\n",
       "      <td>Pass</td>\n",
       "    </tr>\n",
       "    <tr>\n",
       "      <th>1</th>\n",
       "      <td>AAA</td>\n",
       "      <td>2013J</td>\n",
       "      <td>28400</td>\n",
       "      <td>F</td>\n",
       "      <td>Scotland</td>\n",
       "      <td>HE Qualification</td>\n",
       "      <td>20-30%</td>\n",
       "      <td>35-55</td>\n",
       "      <td>0</td>\n",
       "      <td>60</td>\n",
       "      <td>N</td>\n",
       "      <td>Pass</td>\n",
       "    </tr>\n",
       "    <tr>\n",
       "      <th>2</th>\n",
       "      <td>AAA</td>\n",
       "      <td>2013J</td>\n",
       "      <td>30268</td>\n",
       "      <td>F</td>\n",
       "      <td>North Western Region</td>\n",
       "      <td>A Level or Equivalent</td>\n",
       "      <td>30-40%</td>\n",
       "      <td>35-55</td>\n",
       "      <td>0</td>\n",
       "      <td>60</td>\n",
       "      <td>Y</td>\n",
       "      <td>Withdrawn</td>\n",
       "    </tr>\n",
       "    <tr>\n",
       "      <th>3</th>\n",
       "      <td>AAA</td>\n",
       "      <td>2013J</td>\n",
       "      <td>31604</td>\n",
       "      <td>F</td>\n",
       "      <td>South East Region</td>\n",
       "      <td>A Level or Equivalent</td>\n",
       "      <td>50-60%</td>\n",
       "      <td>35-55</td>\n",
       "      <td>0</td>\n",
       "      <td>60</td>\n",
       "      <td>N</td>\n",
       "      <td>Pass</td>\n",
       "    </tr>\n",
       "    <tr>\n",
       "      <th>4</th>\n",
       "      <td>AAA</td>\n",
       "      <td>2013J</td>\n",
       "      <td>32885</td>\n",
       "      <td>F</td>\n",
       "      <td>West Midlands Region</td>\n",
       "      <td>Lower Than A Level</td>\n",
       "      <td>50-60%</td>\n",
       "      <td>0-35</td>\n",
       "      <td>0</td>\n",
       "      <td>60</td>\n",
       "      <td>N</td>\n",
       "      <td>Pass</td>\n",
       "    </tr>\n",
       "  </tbody>\n",
       "</table>\n",
       "</div>"
      ],
      "text/plain": [
       "  code_module code_presentation  id_student gender                region  \\\n",
       "0         AAA             2013J       11391      M   East Anglian Region   \n",
       "1         AAA             2013J       28400      F              Scotland   \n",
       "2         AAA             2013J       30268      F  North Western Region   \n",
       "3         AAA             2013J       31604      F     South East Region   \n",
       "4         AAA             2013J       32885      F  West Midlands Region   \n",
       "\n",
       "       highest_education imd_band age_band  num_of_prev_attempts  \\\n",
       "0       HE Qualification  90-100%     55<=                     0   \n",
       "1       HE Qualification   20-30%    35-55                     0   \n",
       "2  A Level or Equivalent   30-40%    35-55                     0   \n",
       "3  A Level or Equivalent   50-60%    35-55                     0   \n",
       "4     Lower Than A Level   50-60%     0-35                     0   \n",
       "\n",
       "   studied_credits disability final_result  \n",
       "0              240          N         Pass  \n",
       "1               60          N         Pass  \n",
       "2               60          Y    Withdrawn  \n",
       "3               60          N         Pass  \n",
       "4               60          N         Pass  "
      ]
     },
     "execution_count": 5,
     "metadata": {},
     "output_type": "execute_result"
    }
   ],
   "source": [
    "df.head()"
   ]
  },
  {
   "cell_type": "markdown",
   "id": "0d382d02",
   "metadata": {},
   "source": [
    "# Preprocessing\n",
    "\n",
    "dari summary diatas didapatkan missing value dari imd_band dan bisa dilakukan pengecekan"
   ]
  },
  {
   "cell_type": "code",
   "execution_count": 7,
   "id": "8c105825",
   "metadata": {},
   "outputs": [
    {
     "name": "stdout",
     "output_type": "stream",
     "text": [
      "['90-100%' '20-30%' '30-40%' '50-60%' '80-90%' '70-80%' nan '60-70%'\n",
      " '40-50%' '10-20' '0-10%']\n"
     ]
    }
   ],
   "source": [
    "uniqueValues = df['imd_band'].unique()\n",
    "print(uniqueValues)"
   ]
  },
  {
   "cell_type": "markdown",
   "id": "0aa6cf32",
   "metadata": {},
   "source": [
    "mengganti value '10-20' menjadi persentasi"
   ]
  },
  {
   "cell_type": "code",
   "execution_count": 8,
   "id": "793c8041",
   "metadata": {},
   "outputs": [
    {
     "name": "stdout",
     "output_type": "stream",
     "text": [
      "['90-100%' '20-30%' '30-40%' '50-60%' '80-90%' '70-80%' nan '60-70%'\n",
      " '40-50%' '10-20%' '0-10%']\n"
     ]
    }
   ],
   "source": [
    "df['imd_band'] = df['imd_band'].replace(['10-20'], '10-20%')\n",
    "uniqueValues = df['imd_band'].unique()\n",
    "print(uniqueValues)"
   ]
  },
  {
   "cell_type": "markdown",
   "id": "e5a98309",
   "metadata": {},
   "source": [
    "missing values dapat diganti dengan mode\n",
    "(The mode of a set of values is the value that appears most often)"
   ]
  },
  {
   "cell_type": "code",
   "execution_count": 10,
   "id": "eacddc58",
   "metadata": {},
   "outputs": [],
   "source": [
    "df['imd_band'] = df['imd_band'].fillna(df['imd_band'].mode()[0])"
   ]
  },
  {
   "cell_type": "code",
   "execution_count": 12,
   "id": "dcee26a0",
   "metadata": {},
   "outputs": [
    {
     "data": {
      "text/plain": [
       "code_module             False\n",
       "code_presentation       False\n",
       "id_student              False\n",
       "gender                  False\n",
       "region                  False\n",
       "highest_education       False\n",
       "imd_band                False\n",
       "age_band                False\n",
       "num_of_prev_attempts    False\n",
       "studied_credits         False\n",
       "disability              False\n",
       "final_result            False\n",
       "dtype: bool"
      ]
     },
     "execution_count": 12,
     "metadata": {},
     "output_type": "execute_result"
    }
   ],
   "source": [
    "df.isnull().any()"
   ]
  },
  {
   "cell_type": "code",
   "execution_count": 22,
   "id": "472f30b3",
   "metadata": {},
   "outputs": [
    {
     "data": {
      "text/plain": [
       "array([240,  60, 120,  90, 150, 180, 345, 420, 170,  80,  75, 300, 330,\n",
       "       210, 270, 360, 135,  70, 225, 585, 325, 130, 195, 105, 655, 165,\n",
       "       100, 390, 220, 160, 250,  30,  40,  45, 400, 235, 145, 630, 355,\n",
       "        50, 110, 115,  55,  85, 480, 280, 175,  95, 155, 190, 315, 200,\n",
       "       140, 540, 310, 370, 205, 215, 255,  65, 430], dtype=int64)"
      ]
     },
     "execution_count": 22,
     "metadata": {},
     "output_type": "execute_result"
    }
   ],
   "source": [
    "df['studied_credits'].unique()"
   ]
  },
  {
   "cell_type": "code",
   "execution_count": 25,
   "id": "c4f7ceb8",
   "metadata": {},
   "outputs": [
    {
     "data": {
      "text/plain": [
       "<AxesSubplot:xlabel='final_result'>"
      ]
     },
     "execution_count": 25,
     "metadata": {},
     "output_type": "execute_result"
    },
    {
     "data": {
      "image/png": "[encoded data removed]",
      "text/plain": [
       "<Figure size 640x480 with 1 Axes>"
      ]
     },
     "metadata": {},
     "output_type": "display_data"
    }
   ],
   "source": [
    "plt.figure()\n",
    "df.groupby(['final_result'])['studied_credits'].mean().sort_values(ascending = False).plot(kind='bar')"
   ]
  },
  {
   "cell_type": "markdown",
   "id": "0d2bca7b",
   "metadata": {},
   "source": [
    "dari chart diatas saya ingin mencoba menemukan korelasi dari rata-rata studi yang ditempuh dengan hasil akhir"
   ]
  },
  {
   "cell_type": "code",
   "execution_count": null,
   "id": "2f01f8a0",
   "metadata": {},
   "outputs": [],
   "source": []
  }
 ],
 "metadata": {
  "kernelspec": {
   "display_name": "Python 3 (ipykernel)",
   "language": "python",
   "name": "python3"
  },
  "language_info": {
   "codemirror_mode": {
    "name": "ipython",
    "version": 3
   },
   "file_extension": ".py",
   "mimetype": "text/x-python",
   "name": "python",
   "nbconvert_exporter": "python",
   "pygments_lexer": "ipython3",
   "version": "3.9.13"
  }
 },
 "nbformat": 4,
 "nbformat_minor": 5
}
